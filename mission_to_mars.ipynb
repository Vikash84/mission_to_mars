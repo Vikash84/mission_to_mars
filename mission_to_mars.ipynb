{
 "cells": [
  {
   "cell_type": "code",
   "execution_count": 1,
   "metadata": {},
   "outputs": [
    {
     "data": {
      "application/javascript": [
       "\n",
       "            setTimeout(function() {\n",
       "                var nbb_cell_id = 1;\n",
       "                var nbb_unformatted_code = \"# importing dependencies here\\nimport requests\\nfrom bs4 import BeautifulSoup\\nfrom selenium import webdriver\\nfrom splinter import Browser\\nimport pandas as pd\\nfrom pprint import pprint\\n\\n%load_ext nb_black\";\n",
       "                var nbb_formatted_code = \"# importing dependencies here\\nimport requests\\nfrom bs4 import BeautifulSoup\\nfrom selenium import webdriver\\nfrom splinter import Browser\\nimport pandas as pd\\nfrom pprint import pprint\\n\\n%load_ext nb_black\";\n",
       "                var nbb_cells = Jupyter.notebook.get_cells();\n",
       "                for (var i = 0; i < nbb_cells.length; ++i) {\n",
       "                    if (nbb_cells[i].input_prompt_number == nbb_cell_id) {\n",
       "                        if (nbb_cells[i].get_text() == nbb_unformatted_code) {\n",
       "                             nbb_cells[i].set_text(nbb_formatted_code);\n",
       "                        }\n",
       "                        break;\n",
       "                    }\n",
       "                }\n",
       "            }, 500);\n",
       "            "
      ],
      "text/plain": [
       "<IPython.core.display.Javascript object>"
      ]
     },
     "metadata": {},
     "output_type": "display_data"
    }
   ],
   "source": [
    "# importing dependencies here\n",
    "import requests\n",
    "from bs4 import BeautifulSoup\n",
    "from selenium import webdriver\n",
    "from splinter import Browser\n",
    "import pandas as pd\n",
    "from pprint import pprint\n",
    "\n",
    "%load_ext nb_black"
   ]
  },
  {
   "cell_type": "markdown",
   "metadata": {},
   "source": [
    "### NASA Mars News"
   ]
  },
  {
   "cell_type": "code",
   "execution_count": 2,
   "metadata": {},
   "outputs": [
    {
     "data": {
      "application/javascript": [
       "\n",
       "            setTimeout(function() {\n",
       "                var nbb_cell_id = 2;\n",
       "                var nbb_unformatted_code = \"# url for NASA's news web page\\nURL = \\\"https://mars.nasa.gov/news/\\\"\";\n",
       "                var nbb_formatted_code = \"# url for NASA's news web page\\nURL = \\\"https://mars.nasa.gov/news/\\\"\";\n",
       "                var nbb_cells = Jupyter.notebook.get_cells();\n",
       "                for (var i = 0; i < nbb_cells.length; ++i) {\n",
       "                    if (nbb_cells[i].input_prompt_number == nbb_cell_id) {\n",
       "                        if (nbb_cells[i].get_text() == nbb_unformatted_code) {\n",
       "                             nbb_cells[i].set_text(nbb_formatted_code);\n",
       "                        }\n",
       "                        break;\n",
       "                    }\n",
       "                }\n",
       "            }, 500);\n",
       "            "
      ],
      "text/plain": [
       "<IPython.core.display.Javascript object>"
      ]
     },
     "metadata": {},
     "output_type": "display_data"
    }
   ],
   "source": [
    "# url for NASA's news web page\n",
    "URL = \"https://mars.nasa.gov/news/\""
   ]
  },
  {
   "cell_type": "code",
   "execution_count": 3,
   "metadata": {},
   "outputs": [
    {
     "data": {
      "application/javascript": [
       "\n",
       "            setTimeout(function() {\n",
       "                var nbb_cell_id = 3;\n",
       "                var nbb_unformatted_code = \"# using selenium to scrape the url as requests didn't return the latest news\\ndriver = webdriver.Firefox()  # opening the browser\\ndriver.get(URL)  # navigating to the web page\\nhtml = driver.page_source\\ndriver.implicitly_wait(20)\\ndriver.close()\\n\\nsoup = BeautifulSoup(html, \\\"lxml\\\")\";\n",
       "                var nbb_formatted_code = \"# using selenium to scrape the url as requests didn't return the latest news\\ndriver = webdriver.Firefox()  # opening the browser\\ndriver.get(URL)  # navigating to the web page\\nhtml = driver.page_source\\ndriver.implicitly_wait(20)\\ndriver.close()\\n\\nsoup = BeautifulSoup(html, \\\"lxml\\\")\";\n",
       "                var nbb_cells = Jupyter.notebook.get_cells();\n",
       "                for (var i = 0; i < nbb_cells.length; ++i) {\n",
       "                    if (nbb_cells[i].input_prompt_number == nbb_cell_id) {\n",
       "                        if (nbb_cells[i].get_text() == nbb_unformatted_code) {\n",
       "                             nbb_cells[i].set_text(nbb_formatted_code);\n",
       "                        }\n",
       "                        break;\n",
       "                    }\n",
       "                }\n",
       "            }, 500);\n",
       "            "
      ],
      "text/plain": [
       "<IPython.core.display.Javascript object>"
      ]
     },
     "metadata": {},
     "output_type": "display_data"
    }
   ],
   "source": [
    "# using selenium to scrape the url as requests didn't return the latest news\n",
    "driver = webdriver.Firefox()  # opening the browser\n",
    "driver.get(URL)  # navigating to the web page\n",
    "html = driver.page_source\n",
    "driver.implicitly_wait(20)\n",
    "driver.close()\n",
    "\n",
    "soup = BeautifulSoup(html, \"lxml\")"
   ]
  },
  {
   "cell_type": "code",
   "execution_count": 4,
   "metadata": {},
   "outputs": [
    {
     "name": "stdout",
     "output_type": "stream",
     "text": [
      "Latest Mars News Title: The MarCO Mission Comes to an End\n",
      "Latest Mars News Teaser: The pair of briefcase-sized satellites made history when they sailed past Mars in 2019.\n"
     ]
    },
    {
     "data": {
      "application/javascript": [
       "\n",
       "            setTimeout(function() {\n",
       "                var nbb_cell_id = 4;\n",
       "                var nbb_unformatted_code = \"# extracting the latets news title and teaser\\nlatest_news = soup.find(\\\"div\\\", class_=\\\"list_text\\\")\\nlatest_news_title = latest_news.find(\\\"div\\\", class_=\\\"content_title\\\").text\\nlatest_news_teaser = latest_news.find(\\\"div\\\", class_=\\\"article_teaser_body\\\").text\\nprint(f\\\"Latest Mars News Title: {latest_news_title}\\\")\\nprint(f\\\"Latest Mars News Teaser: {latest_news_teaser}\\\")\";\n",
       "                var nbb_formatted_code = \"# extracting the latets news title and teaser\\nlatest_news = soup.find(\\\"div\\\", class_=\\\"list_text\\\")\\nlatest_news_title = latest_news.find(\\\"div\\\", class_=\\\"content_title\\\").text\\nlatest_news_teaser = latest_news.find(\\\"div\\\", class_=\\\"article_teaser_body\\\").text\\nprint(f\\\"Latest Mars News Title: {latest_news_title}\\\")\\nprint(f\\\"Latest Mars News Teaser: {latest_news_teaser}\\\")\";\n",
       "                var nbb_cells = Jupyter.notebook.get_cells();\n",
       "                for (var i = 0; i < nbb_cells.length; ++i) {\n",
       "                    if (nbb_cells[i].input_prompt_number == nbb_cell_id) {\n",
       "                        if (nbb_cells[i].get_text() == nbb_unformatted_code) {\n",
       "                             nbb_cells[i].set_text(nbb_formatted_code);\n",
       "                        }\n",
       "                        break;\n",
       "                    }\n",
       "                }\n",
       "            }, 500);\n",
       "            "
      ],
      "text/plain": [
       "<IPython.core.display.Javascript object>"
      ]
     },
     "metadata": {},
     "output_type": "display_data"
    }
   ],
   "source": [
    "# extracting the latets news title and teaser\n",
    "latest_news = soup.find(\"div\", class_=\"list_text\")\n",
    "latest_news_title = latest_news.find(\"div\", class_=\"content_title\").text\n",
    "latest_news_teaser = latest_news.find(\"div\", class_=\"article_teaser_body\").text\n",
    "print(f\"Latest Mars News Title: {latest_news_title}\")\n",
    "print(f\"Latest Mars News Teaser: {latest_news_teaser}\")\n"
   ]
  },
  {
   "cell_type": "markdown",
   "metadata": {},
   "source": [
    "### JPL Mars Space Images - Featured Image"
   ]
  },
  {
   "cell_type": "code",
   "execution_count": 5,
   "metadata": {},
   "outputs": [
    {
     "data": {
      "application/javascript": [
       "\n",
       "            setTimeout(function() {\n",
       "                var nbb_cell_id = 5;\n",
       "                var nbb_unformatted_code = \"# url for NASA's current featured image of Mars\\nIMG_URL = \\\"https://www.jpl.nasa.gov/spaceimages/?search=&category=Mars\\\"\";\n",
       "                var nbb_formatted_code = \"# url for NASA's current featured image of Mars\\nIMG_URL = \\\"https://www.jpl.nasa.gov/spaceimages/?search=&category=Mars\\\"\";\n",
       "                var nbb_cells = Jupyter.notebook.get_cells();\n",
       "                for (var i = 0; i < nbb_cells.length; ++i) {\n",
       "                    if (nbb_cells[i].input_prompt_number == nbb_cell_id) {\n",
       "                        if (nbb_cells[i].get_text() == nbb_unformatted_code) {\n",
       "                             nbb_cells[i].set_text(nbb_formatted_code);\n",
       "                        }\n",
       "                        break;\n",
       "                    }\n",
       "                }\n",
       "            }, 500);\n",
       "            "
      ],
      "text/plain": [
       "<IPython.core.display.Javascript object>"
      ]
     },
     "metadata": {},
     "output_type": "display_data"
    }
   ],
   "source": [
    "# url for NASA's current featured image of Mars\n",
    "IMG_URL = \"https://www.jpl.nasa.gov/spaceimages/?search=&category=Mars\""
   ]
  },
  {
   "cell_type": "code",
   "execution_count": 6,
   "metadata": {},
   "outputs": [
    {
     "data": {
      "text/plain": [
       "bs4.BeautifulSoup"
      ]
     },
     "execution_count": 6,
     "metadata": {},
     "output_type": "execute_result"
    },
    {
     "data": {
      "application/javascript": [
       "\n",
       "            setTimeout(function() {\n",
       "                var nbb_cell_id = 6;\n",
       "                var nbb_unformatted_code = \"# extracting the html text and creating the soup object\\nresponse = requests.get(IMG_URL)\\nhtml = response.text\\nsoup = BeautifulSoup(html, \\\"lxml\\\")\\ntype(soup)\";\n",
       "                var nbb_formatted_code = \"# extracting the html text and creating the soup object\\nresponse = requests.get(IMG_URL)\\nhtml = response.text\\nsoup = BeautifulSoup(html, \\\"lxml\\\")\\ntype(soup)\";\n",
       "                var nbb_cells = Jupyter.notebook.get_cells();\n",
       "                for (var i = 0; i < nbb_cells.length; ++i) {\n",
       "                    if (nbb_cells[i].input_prompt_number == nbb_cell_id) {\n",
       "                        if (nbb_cells[i].get_text() == nbb_unformatted_code) {\n",
       "                             nbb_cells[i].set_text(nbb_formatted_code);\n",
       "                        }\n",
       "                        break;\n",
       "                    }\n",
       "                }\n",
       "            }, 500);\n",
       "            "
      ],
      "text/plain": [
       "<IPython.core.display.Javascript object>"
      ]
     },
     "metadata": {},
     "output_type": "display_data"
    }
   ],
   "source": [
    "# extracting the html text and creating the soup object\n",
    "response = requests.get(IMG_URL)\n",
    "html = response.text\n",
    "soup = BeautifulSoup(html, \"lxml\")\n",
    "type(soup)"
   ]
  },
  {
   "cell_type": "code",
   "execution_count": 7,
   "metadata": {},
   "outputs": [
    {
     "name": "stdout",
     "output_type": "stream",
     "text": [
      "Featured Image url is: https://www.jpl.nasa.gov/spaceimages/images/mediumsize/PIA14254_ip.jpg\n"
     ]
    },
    {
     "data": {
      "application/javascript": [
       "\n",
       "            setTimeout(function() {\n",
       "                var nbb_cell_id = 7;\n",
       "                var nbb_unformatted_code = \"# extracting the featured the image url and then the featured full image using that url\\nfeatured_image_url = (\\n    \\\"https://www.jpl.nasa.gov\\\"\\n    + soup.find(\\\"a\\\", class_=\\\"button fancybox\\\")[\\\"data-fancybox-href\\\"]\\n)\\nprint(f\\\"Featured Image url is: {featured_image_url}\\\")\";\n",
       "                var nbb_formatted_code = \"# extracting the featured the image url and then the featured full image using that url\\nfeatured_image_url = (\\n    \\\"https://www.jpl.nasa.gov\\\"\\n    + soup.find(\\\"a\\\", class_=\\\"button fancybox\\\")[\\\"data-fancybox-href\\\"]\\n)\\nprint(f\\\"Featured Image url is: {featured_image_url}\\\")\";\n",
       "                var nbb_cells = Jupyter.notebook.get_cells();\n",
       "                for (var i = 0; i < nbb_cells.length; ++i) {\n",
       "                    if (nbb_cells[i].input_prompt_number == nbb_cell_id) {\n",
       "                        if (nbb_cells[i].get_text() == nbb_unformatted_code) {\n",
       "                             nbb_cells[i].set_text(nbb_formatted_code);\n",
       "                        }\n",
       "                        break;\n",
       "                    }\n",
       "                }\n",
       "            }, 500);\n",
       "            "
      ],
      "text/plain": [
       "<IPython.core.display.Javascript object>"
      ]
     },
     "metadata": {},
     "output_type": "display_data"
    }
   ],
   "source": [
    "# extracting the featured the image url and then the featured full image using that url\n",
    "featured_image_url = (\n",
    "    \"https://www.jpl.nasa.gov\"\n",
    "    + soup.find(\"a\", class_=\"button fancybox\")[\"data-fancybox-href\"]\n",
    ")\n",
    "print(f\"Featured Image url is: {featured_image_url}\")\n"
   ]
  },
  {
   "cell_type": "markdown",
   "metadata": {},
   "source": [
    "### Mars Weather"
   ]
  },
  {
   "cell_type": "code",
   "execution_count": 8,
   "metadata": {},
   "outputs": [
    {
     "data": {
      "application/javascript": [
       "\n",
       "            setTimeout(function() {\n",
       "                var nbb_cell_id = 8;\n",
       "                var nbb_unformatted_code = \"WEATHER_URL = \\\"https://twitter.com/marswxreport?lang=en\\\"\";\n",
       "                var nbb_formatted_code = \"WEATHER_URL = \\\"https://twitter.com/marswxreport?lang=en\\\"\";\n",
       "                var nbb_cells = Jupyter.notebook.get_cells();\n",
       "                for (var i = 0; i < nbb_cells.length; ++i) {\n",
       "                    if (nbb_cells[i].input_prompt_number == nbb_cell_id) {\n",
       "                        if (nbb_cells[i].get_text() == nbb_unformatted_code) {\n",
       "                             nbb_cells[i].set_text(nbb_formatted_code);\n",
       "                        }\n",
       "                        break;\n",
       "                    }\n",
       "                }\n",
       "            }, 500);\n",
       "            "
      ],
      "text/plain": [
       "<IPython.core.display.Javascript object>"
      ]
     },
     "metadata": {},
     "output_type": "display_data"
    }
   ],
   "source": [
    "WEATHER_URL = \"https://twitter.com/marswxreport?lang=en\""
   ]
  },
  {
   "cell_type": "code",
   "execution_count": 9,
   "metadata": {},
   "outputs": [
    {
     "data": {
      "text/plain": [
       "bs4.BeautifulSoup"
      ]
     },
     "execution_count": 9,
     "metadata": {},
     "output_type": "execute_result"
    },
    {
     "data": {
      "application/javascript": [
       "\n",
       "            setTimeout(function() {\n",
       "                var nbb_cell_id = 9;\n",
       "                var nbb_unformatted_code = \"# extracting the html text and creating the soup object\\nresponse = requests.get(WEATHER_URL)\\nhtml = response.text\\nsoup = BeautifulSoup(html, \\\"html.parser\\\")\\ntype(soup)\";\n",
       "                var nbb_formatted_code = \"# extracting the html text and creating the soup object\\nresponse = requests.get(WEATHER_URL)\\nhtml = response.text\\nsoup = BeautifulSoup(html, \\\"html.parser\\\")\\ntype(soup)\";\n",
       "                var nbb_cells = Jupyter.notebook.get_cells();\n",
       "                for (var i = 0; i < nbb_cells.length; ++i) {\n",
       "                    if (nbb_cells[i].input_prompt_number == nbb_cell_id) {\n",
       "                        if (nbb_cells[i].get_text() == nbb_unformatted_code) {\n",
       "                             nbb_cells[i].set_text(nbb_formatted_code);\n",
       "                        }\n",
       "                        break;\n",
       "                    }\n",
       "                }\n",
       "            }, 500);\n",
       "            "
      ],
      "text/plain": [
       "<IPython.core.display.Javascript object>"
      ]
     },
     "metadata": {},
     "output_type": "display_data"
    }
   ],
   "source": [
    "# extracting the html text and creating the soup object\n",
    "response = requests.get(WEATHER_URL)\n",
    "html = response.text\n",
    "soup = BeautifulSoup(html, \"html.parser\")\n",
    "type(soup)"
   ]
  },
  {
   "cell_type": "code",
   "execution_count": 10,
   "metadata": {},
   "outputs": [
    {
     "name": "stdout",
     "output_type": "stream",
     "text": [
      "Mars Weather: InSight sol 447 (2020-02-28) low -92.6ºC (-134.6ºF) high -11.1ºC (12.0ºF)\n",
      "winds from the SSW at 5.8 m/s (13.1 mph) gusting to 20.2 m/s (45.2 mph)\n",
      "pressure at 6.30 hPa\n"
     ]
    },
    {
     "data": {
      "application/javascript": [
       "\n",
       "            setTimeout(function() {\n",
       "                var nbb_cell_id = 10;\n",
       "                var nbb_unformatted_code = \"# print the html to get the correct twitter class name. What we see on inspecting twitter are junk class values.\\ntwitter_weather_para = soup.find(\\n    \\\"p\\\", class_=\\\"TweetTextSize TweetTextSize--normal js-tweet-text tweet-text\\\"\\n)\\nfor para in twitter_weather_para:\\n    mars_weather = para\\n    break\\n\\nprint(f\\\"Mars Weather: {mars_weather}\\\")\";\n",
       "                var nbb_formatted_code = \"# print the html to get the correct twitter class name. What we see on inspecting twitter are junk class values.\\ntwitter_weather_para = soup.find(\\n    \\\"p\\\", class_=\\\"TweetTextSize TweetTextSize--normal js-tweet-text tweet-text\\\"\\n)\\nfor para in twitter_weather_para:\\n    mars_weather = para\\n    break\\n\\nprint(f\\\"Mars Weather: {mars_weather}\\\")\";\n",
       "                var nbb_cells = Jupyter.notebook.get_cells();\n",
       "                for (var i = 0; i < nbb_cells.length; ++i) {\n",
       "                    if (nbb_cells[i].input_prompt_number == nbb_cell_id) {\n",
       "                        if (nbb_cells[i].get_text() == nbb_unformatted_code) {\n",
       "                             nbb_cells[i].set_text(nbb_formatted_code);\n",
       "                        }\n",
       "                        break;\n",
       "                    }\n",
       "                }\n",
       "            }, 500);\n",
       "            "
      ],
      "text/plain": [
       "<IPython.core.display.Javascript object>"
      ]
     },
     "metadata": {},
     "output_type": "display_data"
    }
   ],
   "source": [
    "# print the html to get the correct twitter class name. What we see on inspecting twitter are junk class values.\n",
    "twitter_weather_para = soup.find(\n",
    "    \"p\", class_=\"TweetTextSize TweetTextSize--normal js-tweet-text tweet-text\"\n",
    ")\n",
    "for para in twitter_weather_para:\n",
    "    mars_weather = para\n",
    "    break\n",
    "\n",
    "print(f\"Mars Weather: {mars_weather}\")"
   ]
  },
  {
   "cell_type": "markdown",
   "metadata": {},
   "source": [
    "### Mars Facts"
   ]
  },
  {
   "cell_type": "code",
   "execution_count": 11,
   "metadata": {},
   "outputs": [
    {
     "data": {
      "application/javascript": [
       "\n",
       "            setTimeout(function() {\n",
       "                var nbb_cell_id = 11;\n",
       "                var nbb_unformatted_code = \"FACTS_URL = \\\"http://space-facts.com/mars/\\\"\";\n",
       "                var nbb_formatted_code = \"FACTS_URL = \\\"http://space-facts.com/mars/\\\"\";\n",
       "                var nbb_cells = Jupyter.notebook.get_cells();\n",
       "                for (var i = 0; i < nbb_cells.length; ++i) {\n",
       "                    if (nbb_cells[i].input_prompt_number == nbb_cell_id) {\n",
       "                        if (nbb_cells[i].get_text() == nbb_unformatted_code) {\n",
       "                             nbb_cells[i].set_text(nbb_formatted_code);\n",
       "                        }\n",
       "                        break;\n",
       "                    }\n",
       "                }\n",
       "            }, 500);\n",
       "            "
      ],
      "text/plain": [
       "<IPython.core.display.Javascript object>"
      ]
     },
     "metadata": {},
     "output_type": "display_data"
    }
   ],
   "source": [
    "FACTS_URL = \"http://space-facts.com/mars/\""
   ]
  },
  {
   "cell_type": "code",
   "execution_count": 12,
   "metadata": {},
   "outputs": [
    {
     "name": "stdout",
     "output_type": "stream",
     "text": [
      "                      0                              1\n",
      "0  Equatorial Diameter:                       6,792 km\n",
      "1       Polar Diameter:                       6,752 km\n",
      "2                 Mass:  6.39 × 10^23 kg (0.11 Earths)\n",
      "3                Moons:            2 (Phobos & Deimos)\n",
      "4       Orbit Distance:       227,943,824 km (1.38 AU)\n",
      "5         Orbit Period:           687 days (1.9 years)\n",
      "6  Surface Temperature:                   -87 to -5 °C\n",
      "7         First Record:              2nd millennium BC\n",
      "8          Recorded By:           Egyptian astronomers\n"
     ]
    },
    {
     "data": {
      "application/javascript": [
       "\n",
       "            setTimeout(function() {\n",
       "                var nbb_cell_id = 12;\n",
       "                var nbb_unformatted_code = \"reponse = requests.get(FACTS_URL).text\\nmars_facts = pd.read_html(reponse)[0]\\nprint(mars_facts)\";\n",
       "                var nbb_formatted_code = \"reponse = requests.get(FACTS_URL).text\\nmars_facts = pd.read_html(reponse)[0]\\nprint(mars_facts)\";\n",
       "                var nbb_cells = Jupyter.notebook.get_cells();\n",
       "                for (var i = 0; i < nbb_cells.length; ++i) {\n",
       "                    if (nbb_cells[i].input_prompt_number == nbb_cell_id) {\n",
       "                        if (nbb_cells[i].get_text() == nbb_unformatted_code) {\n",
       "                             nbb_cells[i].set_text(nbb_formatted_code);\n",
       "                        }\n",
       "                        break;\n",
       "                    }\n",
       "                }\n",
       "            }, 500);\n",
       "            "
      ],
      "text/plain": [
       "<IPython.core.display.Javascript object>"
      ]
     },
     "metadata": {},
     "output_type": "display_data"
    }
   ],
   "source": [
    "reponse = requests.get(FACTS_URL).text\n",
    "mars_facts = pd.read_html(reponse)[0]\n",
    "print(mars_facts)"
   ]
  },
  {
   "cell_type": "code",
   "execution_count": 13,
   "metadata": {},
   "outputs": [
    {
     "data": {
      "text/html": [
       "<div>\n",
       "<style scoped>\n",
       "    .dataframe tbody tr th:only-of-type {\n",
       "        vertical-align: middle;\n",
       "    }\n",
       "\n",
       "    .dataframe tbody tr th {\n",
       "        vertical-align: top;\n",
       "    }\n",
       "\n",
       "    .dataframe thead th {\n",
       "        text-align: right;\n",
       "    }\n",
       "</style>\n",
       "<table border=\"1\" class=\"dataframe\">\n",
       "  <thead>\n",
       "    <tr style=\"text-align: right;\">\n",
       "      <th></th>\n",
       "      <th>Value</th>\n",
       "    </tr>\n",
       "    <tr>\n",
       "      <th>Description</th>\n",
       "      <th></th>\n",
       "    </tr>\n",
       "  </thead>\n",
       "  <tbody>\n",
       "    <tr>\n",
       "      <th>Equatorial Diameter:</th>\n",
       "      <td>6,792 km</td>\n",
       "    </tr>\n",
       "    <tr>\n",
       "      <th>Polar Diameter:</th>\n",
       "      <td>6,752 km</td>\n",
       "    </tr>\n",
       "    <tr>\n",
       "      <th>Mass:</th>\n",
       "      <td>6.39 × 10^23 kg (0.11 Earths)</td>\n",
       "    </tr>\n",
       "    <tr>\n",
       "      <th>Moons:</th>\n",
       "      <td>2 (Phobos &amp; Deimos)</td>\n",
       "    </tr>\n",
       "    <tr>\n",
       "      <th>Orbit Distance:</th>\n",
       "      <td>227,943,824 km (1.38 AU)</td>\n",
       "    </tr>\n",
       "    <tr>\n",
       "      <th>Orbit Period:</th>\n",
       "      <td>687 days (1.9 years)</td>\n",
       "    </tr>\n",
       "    <tr>\n",
       "      <th>Surface Temperature:</th>\n",
       "      <td>-87 to -5 °C</td>\n",
       "    </tr>\n",
       "    <tr>\n",
       "      <th>First Record:</th>\n",
       "      <td>2nd millennium BC</td>\n",
       "    </tr>\n",
       "    <tr>\n",
       "      <th>Recorded By:</th>\n",
       "      <td>Egyptian astronomers</td>\n",
       "    </tr>\n",
       "  </tbody>\n",
       "</table>\n",
       "</div>"
      ],
      "text/plain": [
       "                                              Value\n",
       "Description                                        \n",
       "Equatorial Diameter:                       6,792 km\n",
       "Polar Diameter:                            6,752 km\n",
       "Mass:                 6.39 × 10^23 kg (0.11 Earths)\n",
       "Moons:                          2 (Phobos & Deimos)\n",
       "Orbit Distance:            227,943,824 km (1.38 AU)\n",
       "Orbit Period:                  687 days (1.9 years)\n",
       "Surface Temperature:                   -87 to -5 °C\n",
       "First Record:                     2nd millennium BC\n",
       "Recorded By:                   Egyptian astronomers"
      ]
     },
     "execution_count": 13,
     "metadata": {},
     "output_type": "execute_result"
    },
    {
     "data": {
      "application/javascript": [
       "\n",
       "            setTimeout(function() {\n",
       "                var nbb_cell_id = 13;\n",
       "                var nbb_unformatted_code = \"import pandas as pd\\n\\nmars_facts_df = (\\n    pd.DataFrame(mars_facts)\\n    .rename(columns={0: \\\"Description\\\", 1: \\\"Value\\\"})\\n    .set_index(\\\"Description\\\")\\n)\\n\\nmars_facts_df\";\n",
       "                var nbb_formatted_code = \"import pandas as pd\\n\\nmars_facts_df = (\\n    pd.DataFrame(mars_facts)\\n    .rename(columns={0: \\\"Description\\\", 1: \\\"Value\\\"})\\n    .set_index(\\\"Description\\\")\\n)\\n\\nmars_facts_df\";\n",
       "                var nbb_cells = Jupyter.notebook.get_cells();\n",
       "                for (var i = 0; i < nbb_cells.length; ++i) {\n",
       "                    if (nbb_cells[i].input_prompt_number == nbb_cell_id) {\n",
       "                        if (nbb_cells[i].get_text() == nbb_unformatted_code) {\n",
       "                             nbb_cells[i].set_text(nbb_formatted_code);\n",
       "                        }\n",
       "                        break;\n",
       "                    }\n",
       "                }\n",
       "            }, 500);\n",
       "            "
      ],
      "text/plain": [
       "<IPython.core.display.Javascript object>"
      ]
     },
     "metadata": {},
     "output_type": "display_data"
    }
   ],
   "source": [
    "import pandas as pd\n",
    "\n",
    "mars_facts_df = (\n",
    "    pd.DataFrame(mars_facts)\n",
    "    .rename(columns={0: \"Description\", 1: \"Value\"})\n",
    "    .set_index(\"Description\")\n",
    ")\n",
    "\n",
    "mars_facts_df"
   ]
  },
  {
   "cell_type": "code",
   "execution_count": 14,
   "metadata": {},
   "outputs": [
    {
     "data": {
      "text/plain": [
       "'<table border=\"1\" class=\"dataframe\">  <thead>    <tr style=\"text-align: right;\">      <th></th>      <th>Value</th>    </tr>    <tr>      <th>Description</th>      <th></th>    </tr>  </thead>  <tbody>    <tr>      <th>Equatorial Diameter:</th>      <td>6,792 km</td>    </tr>    <tr>      <th>Polar Diameter:</th>      <td>6,752 km</td>    </tr>    <tr>      <th>Mass:</th>      <td>6.39 × 10^23 kg (0.11 Earths)</td>    </tr>    <tr>      <th>Moons:</th>      <td>2 (Phobos &amp; Deimos)</td>    </tr>    <tr>      <th>Orbit Distance:</th>      <td>227,943,824 km (1.38 AU)</td>    </tr>    <tr>      <th>Orbit Period:</th>      <td>687 days (1.9 years)</td>    </tr>    <tr>      <th>Surface Temperature:</th>      <td>-87 to -5 °C</td>    </tr>    <tr>      <th>First Record:</th>      <td>2nd millennium BC</td>    </tr>    <tr>      <th>Recorded By:</th>      <td>Egyptian astronomers</td>    </tr>  </tbody></table>'"
      ]
     },
     "execution_count": 14,
     "metadata": {},
     "output_type": "execute_result"
    },
    {
     "data": {
      "application/javascript": [
       "\n",
       "            setTimeout(function() {\n",
       "                var nbb_cell_id = 14;\n",
       "                var nbb_unformatted_code = \"mars_facts = mars_facts_df.to_html(index=True, header=True)\\nmars_facts = mars_facts.replace(\\\"\\\\n\\\", \\\"\\\")\\n\\nmars_facts\";\n",
       "                var nbb_formatted_code = \"mars_facts = mars_facts_df.to_html(index=True, header=True)\\nmars_facts = mars_facts.replace(\\\"\\\\n\\\", \\\"\\\")\\n\\nmars_facts\";\n",
       "                var nbb_cells = Jupyter.notebook.get_cells();\n",
       "                for (var i = 0; i < nbb_cells.length; ++i) {\n",
       "                    if (nbb_cells[i].input_prompt_number == nbb_cell_id) {\n",
       "                        if (nbb_cells[i].get_text() == nbb_unformatted_code) {\n",
       "                             nbb_cells[i].set_text(nbb_formatted_code);\n",
       "                        }\n",
       "                        break;\n",
       "                    }\n",
       "                }\n",
       "            }, 500);\n",
       "            "
      ],
      "text/plain": [
       "<IPython.core.display.Javascript object>"
      ]
     },
     "metadata": {},
     "output_type": "display_data"
    }
   ],
   "source": [
    "mars_facts = mars_facts_df.to_html(index=True, header=True)\n",
    "mars_facts = mars_facts.replace(\"\\n\", \"\")\n",
    "\n",
    "mars_facts"
   ]
  },
  {
   "cell_type": "markdown",
   "metadata": {},
   "source": [
    "### Mars Hemispheres"
   ]
  },
  {
   "cell_type": "code",
   "execution_count": 15,
   "metadata": {},
   "outputs": [
    {
     "data": {
      "application/javascript": [
       "\n",
       "            setTimeout(function() {\n",
       "                var nbb_cell_id = 15;\n",
       "                var nbb_unformatted_code = \"HEMISPHERE_URL = \\\"https://astrogeology.usgs.gov/search/results?q=hemisphere+enhanced&k1=target&v1=Mars\\\"\";\n",
       "                var nbb_formatted_code = \"HEMISPHERE_URL = \\\"https://astrogeology.usgs.gov/search/results?q=hemisphere+enhanced&k1=target&v1=Mars\\\"\";\n",
       "                var nbb_cells = Jupyter.notebook.get_cells();\n",
       "                for (var i = 0; i < nbb_cells.length; ++i) {\n",
       "                    if (nbb_cells[i].input_prompt_number == nbb_cell_id) {\n",
       "                        if (nbb_cells[i].get_text() == nbb_unformatted_code) {\n",
       "                             nbb_cells[i].set_text(nbb_formatted_code);\n",
       "                        }\n",
       "                        break;\n",
       "                    }\n",
       "                }\n",
       "            }, 500);\n",
       "            "
      ],
      "text/plain": [
       "<IPython.core.display.Javascript object>"
      ]
     },
     "metadata": {},
     "output_type": "display_data"
    }
   ],
   "source": [
    "HEMISPHERE_URL = \"https://astrogeology.usgs.gov/search/results?q=hemisphere+enhanced&k1=target&v1=Mars\""
   ]
  },
  {
   "cell_type": "code",
   "execution_count": 16,
   "metadata": {},
   "outputs": [
    {
     "data": {
      "text/plain": [
       "bs4.BeautifulSoup"
      ]
     },
     "execution_count": 16,
     "metadata": {},
     "output_type": "execute_result"
    },
    {
     "data": {
      "application/javascript": [
       "\n",
       "            setTimeout(function() {\n",
       "                var nbb_cell_id = 16;\n",
       "                var nbb_unformatted_code = \"browser = Browser(\\n    \\\"firefox\\\"\\n)  # Note: if you don\\u2019t provide any driver argument to the Browser function, firefox will be used\\nbrowser.visit(HEMISPHERE_URL)\\nhtml = browser.html\\n\\nsoup = BeautifulSoup(html, \\\"lxml\\\")\\ntype(soup)\";\n",
       "                var nbb_formatted_code = \"browser = Browser(\\n    \\\"firefox\\\"\\n)  # Note: if you don\\u2019t provide any driver argument to the Browser function, firefox will be used\\nbrowser.visit(HEMISPHERE_URL)\\nhtml = browser.html\\n\\nsoup = BeautifulSoup(html, \\\"lxml\\\")\\ntype(soup)\";\n",
       "                var nbb_cells = Jupyter.notebook.get_cells();\n",
       "                for (var i = 0; i < nbb_cells.length; ++i) {\n",
       "                    if (nbb_cells[i].input_prompt_number == nbb_cell_id) {\n",
       "                        if (nbb_cells[i].get_text() == nbb_unformatted_code) {\n",
       "                             nbb_cells[i].set_text(nbb_formatted_code);\n",
       "                        }\n",
       "                        break;\n",
       "                    }\n",
       "                }\n",
       "            }, 500);\n",
       "            "
      ],
      "text/plain": [
       "<IPython.core.display.Javascript object>"
      ]
     },
     "metadata": {},
     "output_type": "display_data"
    }
   ],
   "source": [
    "browser = Browser(\n",
    "    \"firefox\"\n",
    ")  # Note: if you don’t provide any driver argument to the Browser function, firefox will be used\n",
    "browser.visit(HEMISPHERE_URL)\n",
    "html = browser.html\n",
    "\n",
    "soup = BeautifulSoup(html, \"lxml\")\n",
    "type(soup)"
   ]
  },
  {
   "cell_type": "code",
   "execution_count": 17,
   "metadata": {},
   "outputs": [
    {
     "data": {
      "application/javascript": [
       "\n",
       "            setTimeout(function() {\n",
       "                var nbb_cell_id = 17;\n",
       "                var nbb_unformatted_code = \"page = soup.find(\\\"div\\\", class_=\\\"result-list\\\")\\npage_items = page.find_all(\\\"div\\\", class_=\\\"item\\\")\\n# print(page_items)\";\n",
       "                var nbb_formatted_code = \"page = soup.find(\\\"div\\\", class_=\\\"result-list\\\")\\npage_items = page.find_all(\\\"div\\\", class_=\\\"item\\\")\\n# print(page_items)\";\n",
       "                var nbb_cells = Jupyter.notebook.get_cells();\n",
       "                for (var i = 0; i < nbb_cells.length; ++i) {\n",
       "                    if (nbb_cells[i].input_prompt_number == nbb_cell_id) {\n",
       "                        if (nbb_cells[i].get_text() == nbb_unformatted_code) {\n",
       "                             nbb_cells[i].set_text(nbb_formatted_code);\n",
       "                        }\n",
       "                        break;\n",
       "                    }\n",
       "                }\n",
       "            }, 500);\n",
       "            "
      ],
      "text/plain": [
       "<IPython.core.display.Javascript object>"
      ]
     },
     "metadata": {},
     "output_type": "display_data"
    }
   ],
   "source": [
    "page = soup.find(\"div\", class_=\"result-list\")\n",
    "page_items = page.find_all(\"div\", class_=\"item\")\n",
    "# print(page_items)"
   ]
  },
  {
   "cell_type": "code",
   "execution_count": 18,
   "metadata": {},
   "outputs": [
    {
     "name": "stdout",
     "output_type": "stream",
     "text": [
      "[{'img_url': 'http://astropedia.astrogeology.usgs.gov/download/Mars/Viking/cerberus_enhanced.tif/full.jpg',\n",
      "  'title': 'Cerberus Hemisphere Enhanced'},\n",
      " {'img_url': 'http://astropedia.astrogeology.usgs.gov/download/Mars/Viking/schiaparelli_enhanced.tif/full.jpg',\n",
      "  'title': 'Schiaparelli Hemisphere Enhanced'},\n",
      " {'img_url': 'http://astropedia.astrogeology.usgs.gov/download/Mars/Viking/syrtis_major_enhanced.tif/full.jpg',\n",
      "  'title': 'Syrtis Major Hemisphere Enhanced'},\n",
      " {'img_url': 'http://astropedia.astrogeology.usgs.gov/download/Mars/Viking/valles_marineris_enhanced.tif/full.jpg',\n",
      "  'title': 'Valles Marineris Hemisphere Enhanced'}]\n"
     ]
    },
    {
     "data": {
      "application/javascript": [
       "\n",
       "            setTimeout(function() {\n",
       "                var nbb_cell_id = 18;\n",
       "                var nbb_unformatted_code = \"HEMISPHERE_PARTIAL_URL = \\\"https://astrogeology.usgs.gov\\\"\\nhemisphere_image_urls = []\\n\\nfor item in page_items:\\n\\n    hemisphere_dict = {}\\n\\n    url = item.find(\\\"a\\\")[\\\"href\\\"]\\n#     print(HEMISPHERE_PARTIAL_URL + url)\\n\\n    browser.visit(HEMISPHERE_PARTIAL_URL + url)\\n    new_html = browser.html\\n    soup = BeautifulSoup(new_html, \\\"lxml\\\")\\n\\n    hemisphere_dict[\\\"title\\\"] = soup.find(\\\"h2\\\", class_=\\\"title\\\").text\\n    image = soup.find(\\\"div\\\", class_=\\\"downloads\\\")\\n    hemisphere_dict[\\\"img_url\\\"] = image.find(\\\"a\\\")[\\\"href\\\"]\\n\\n    hemisphere_image_urls.append(hemisphere_dict)\\n\\npprint(hemisphere_image_urls)\\nbrowser.quit()\";\n",
       "                var nbb_formatted_code = \"HEMISPHERE_PARTIAL_URL = \\\"https://astrogeology.usgs.gov\\\"\\nhemisphere_image_urls = []\\n\\nfor item in page_items:\\n\\n    hemisphere_dict = {}\\n\\n    url = item.find(\\\"a\\\")[\\\"href\\\"]\\n    #     print(HEMISPHERE_PARTIAL_URL + url)\\n\\n    browser.visit(HEMISPHERE_PARTIAL_URL + url)\\n    new_html = browser.html\\n    soup = BeautifulSoup(new_html, \\\"lxml\\\")\\n\\n    hemisphere_dict[\\\"title\\\"] = soup.find(\\\"h2\\\", class_=\\\"title\\\").text\\n    image = soup.find(\\\"div\\\", class_=\\\"downloads\\\")\\n    hemisphere_dict[\\\"img_url\\\"] = image.find(\\\"a\\\")[\\\"href\\\"]\\n\\n    hemisphere_image_urls.append(hemisphere_dict)\\n\\npprint(hemisphere_image_urls)\\nbrowser.quit()\";\n",
       "                var nbb_cells = Jupyter.notebook.get_cells();\n",
       "                for (var i = 0; i < nbb_cells.length; ++i) {\n",
       "                    if (nbb_cells[i].input_prompt_number == nbb_cell_id) {\n",
       "                        if (nbb_cells[i].get_text() == nbb_unformatted_code) {\n",
       "                             nbb_cells[i].set_text(nbb_formatted_code);\n",
       "                        }\n",
       "                        break;\n",
       "                    }\n",
       "                }\n",
       "            }, 500);\n",
       "            "
      ],
      "text/plain": [
       "<IPython.core.display.Javascript object>"
      ]
     },
     "metadata": {},
     "output_type": "display_data"
    }
   ],
   "source": [
    "HEMISPHERE_PARTIAL_URL = \"https://astrogeology.usgs.gov\"\n",
    "hemisphere_image_urls = []\n",
    "\n",
    "for item in page_items:\n",
    "\n",
    "    hemisphere_dict = {}\n",
    "\n",
    "    url = item.find(\"a\")[\"href\"]\n",
    "    #     print(HEMISPHERE_PARTIAL_URL + url)\n",
    "\n",
    "    browser.visit(HEMISPHERE_PARTIAL_URL + url)\n",
    "    new_html = browser.html\n",
    "    soup = BeautifulSoup(new_html, \"lxml\")\n",
    "\n",
    "    hemisphere_dict[\"title\"] = soup.find(\"h2\", class_=\"title\").text\n",
    "    image = soup.find(\"div\", class_=\"downloads\")\n",
    "    hemisphere_dict[\"img_url\"] = image.find(\"a\")[\"href\"]\n",
    "\n",
    "    hemisphere_image_urls.append(hemisphere_dict)\n",
    "\n",
    "pprint(hemisphere_image_urls)\n",
    "browser.quit()"
   ]
  },
  {
   "cell_type": "code",
   "execution_count": 19,
   "metadata": {},
   "outputs": [
    {
     "data": {
      "application/javascript": [
       "\n",
       "            setTimeout(function() {\n",
       "                var nbb_cell_id = 19;\n",
       "                var nbb_unformatted_code = \"hemisphere_df = pd.DataFrame(hemisphere_image_urls)\";\n",
       "                var nbb_formatted_code = \"hemisphere_df = pd.DataFrame(hemisphere_image_urls)\";\n",
       "                var nbb_cells = Jupyter.notebook.get_cells();\n",
       "                for (var i = 0; i < nbb_cells.length; ++i) {\n",
       "                    if (nbb_cells[i].input_prompt_number == nbb_cell_id) {\n",
       "                        if (nbb_cells[i].get_text() == nbb_unformatted_code) {\n",
       "                             nbb_cells[i].set_text(nbb_formatted_code);\n",
       "                        }\n",
       "                        break;\n",
       "                    }\n",
       "                }\n",
       "            }, 500);\n",
       "            "
      ],
      "text/plain": [
       "<IPython.core.display.Javascript object>"
      ]
     },
     "metadata": {},
     "output_type": "display_data"
    }
   ],
   "source": [
    "hemisphere_df = pd.DataFrame(hemisphere_image_urls)"
   ]
  },
  {
   "cell_type": "code",
   "execution_count": 20,
   "metadata": {},
   "outputs": [
    {
     "data": {
      "text/html": [
       "<div>\n",
       "<style scoped>\n",
       "    .dataframe tbody tr th:only-of-type {\n",
       "        vertical-align: middle;\n",
       "    }\n",
       "\n",
       "    .dataframe tbody tr th {\n",
       "        vertical-align: top;\n",
       "    }\n",
       "\n",
       "    .dataframe thead th {\n",
       "        text-align: right;\n",
       "    }\n",
       "</style>\n",
       "<table border=\"1\" class=\"dataframe\">\n",
       "  <thead>\n",
       "    <tr style=\"text-align: right;\">\n",
       "      <th></th>\n",
       "      <th>title</th>\n",
       "      <th>img_url</th>\n",
       "    </tr>\n",
       "  </thead>\n",
       "  <tbody>\n",
       "    <tr>\n",
       "      <th>0</th>\n",
       "      <td>Cerberus Hemisphere Enhanced</td>\n",
       "      <td>http://astropedia.astrogeology.usgs.gov/downlo...</td>\n",
       "    </tr>\n",
       "    <tr>\n",
       "      <th>1</th>\n",
       "      <td>Schiaparelli Hemisphere Enhanced</td>\n",
       "      <td>http://astropedia.astrogeology.usgs.gov/downlo...</td>\n",
       "    </tr>\n",
       "    <tr>\n",
       "      <th>2</th>\n",
       "      <td>Syrtis Major Hemisphere Enhanced</td>\n",
       "      <td>http://astropedia.astrogeology.usgs.gov/downlo...</td>\n",
       "    </tr>\n",
       "    <tr>\n",
       "      <th>3</th>\n",
       "      <td>Valles Marineris Hemisphere Enhanced</td>\n",
       "      <td>http://astropedia.astrogeology.usgs.gov/downlo...</td>\n",
       "    </tr>\n",
       "  </tbody>\n",
       "</table>\n",
       "</div>"
      ],
      "text/plain": [
       "                                  title  \\\n",
       "0          Cerberus Hemisphere Enhanced   \n",
       "1      Schiaparelli Hemisphere Enhanced   \n",
       "2      Syrtis Major Hemisphere Enhanced   \n",
       "3  Valles Marineris Hemisphere Enhanced   \n",
       "\n",
       "                                             img_url  \n",
       "0  http://astropedia.astrogeology.usgs.gov/downlo...  \n",
       "1  http://astropedia.astrogeology.usgs.gov/downlo...  \n",
       "2  http://astropedia.astrogeology.usgs.gov/downlo...  \n",
       "3  http://astropedia.astrogeology.usgs.gov/downlo...  "
      ]
     },
     "execution_count": 20,
     "metadata": {},
     "output_type": "execute_result"
    },
    {
     "data": {
      "application/javascript": [
       "\n",
       "            setTimeout(function() {\n",
       "                var nbb_cell_id = 20;\n",
       "                var nbb_unformatted_code = \"hemisphere_df\";\n",
       "                var nbb_formatted_code = \"hemisphere_df\";\n",
       "                var nbb_cells = Jupyter.notebook.get_cells();\n",
       "                for (var i = 0; i < nbb_cells.length; ++i) {\n",
       "                    if (nbb_cells[i].input_prompt_number == nbb_cell_id) {\n",
       "                        if (nbb_cells[i].get_text() == nbb_unformatted_code) {\n",
       "                             nbb_cells[i].set_text(nbb_formatted_code);\n",
       "                        }\n",
       "                        break;\n",
       "                    }\n",
       "                }\n",
       "            }, 500);\n",
       "            "
      ],
      "text/plain": [
       "<IPython.core.display.Javascript object>"
      ]
     },
     "metadata": {},
     "output_type": "display_data"
    }
   ],
   "source": [
    "hemisphere_df"
   ]
  }
 ],
 "metadata": {
  "kernelspec": {
   "display_name": "mars",
   "language": "python",
   "name": "mars"
  },
  "language_info": {
   "codemirror_mode": {
    "name": "ipython",
    "version": 3
   },
   "file_extension": ".py",
   "mimetype": "text/x-python",
   "name": "python",
   "nbconvert_exporter": "python",
   "pygments_lexer": "ipython3",
   "version": "3.7.5"
  }
 },
 "nbformat": 4,
 "nbformat_minor": 2
}
